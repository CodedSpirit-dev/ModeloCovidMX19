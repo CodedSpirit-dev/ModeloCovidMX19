{
  "cells": [
    {
      "cell_type": "markdown",
      "metadata": {
        "colab_type": "text",
        "id": "view-in-github"
      },
      "source": [
        "<a href=\"https://colab.research.google.com/github/CodedSpirit-dev/ModeloCovidMX19/blob/main/PTfinal.ipynb\" target=\"_parent\"><img src=\"https://colab.research.google.com/assets/colab-badge.svg\" alt=\"Open In Colab\"/></a>"
      ]
    },
    {
      "cell_type": "code",
      "execution_count": 1,
      "metadata": {
        "id": "CblG7T-IEBZK"
      },
      "outputs": [
        {
          "name": "stdout",
          "output_type": "stream",
          "text": [
            "fatal: destination path 'rapidsai-csp-utils' already exists and is not an empty directory.\n",
            "Traceback (most recent call last):\n",
            "  File \"/home/codedspirit/ModeloCovidMX19/rapidsai-csp-utils/colab/pip-install.py\", line 28, in <module>\n",
            "    if ('K80' not in gpu_name):\n",
            "TypeError: a bytes-like object is required, not 'str'\n"
          ]
        }
      ],
      "source": [
        "# This get the RAPIDS-Colab install files and test check your GPU.  Run this and the next cell only.\n",
        "# Please read the output of this cell.  If your Colab Instance is not RAPIDS compatible, it will warn you and give you remediation steps.\n",
        "!git clone https://github.com/rapidsai/rapidsai-csp-utils.git\n",
        "!python rapidsai-csp-utils/colab/pip-install.py"
      ]
    },
    {
      "cell_type": "code",
      "execution_count": 2,
      "metadata": {
        "id": "RGAdx7WW1tJF"
      },
      "outputs": [
        {
          "name": "stdout",
          "output_type": "stream",
          "text": [
            "--2023-11-06 01:20:36--  https://datosabiertos.salud.gob.mx/gobmx/salud/datos_abiertos/datos_abiertos_covid19.zip\n",
            "Resolving datosabiertos.salud.gob.mx (datosabiertos.salud.gob.mx)... 201.98.60.146\n",
            "Connecting to datosabiertos.salud.gob.mx (datosabiertos.salud.gob.mx)|201.98.60.146|:443... connected.\n",
            "HTTP request sent, awaiting response... 200 OK\n",
            "Length: 17989229 (17M) [application/x-zip-compressed]\n",
            "Saving to: ‘datos_abiertos_covid19.zip.5’\n",
            "\n",
            "datos_abiertos_covi 100%[===================>]  17.16M  8.38MB/s    in 2.0s    \n",
            "\n",
            "2023-11-06 01:20:38 (8.38 MB/s) - ‘datos_abiertos_covid19.zip.5’ saved [17989229/17989229]\n",
            "\n"
          ]
        }
      ],
      "source": [
        "!wget https://datosabiertos.salud.gob.mx/gobmx/salud/datos_abiertos/datos_abiertos_covid19.zip"
      ]
    },
    {
      "cell_type": "code",
      "execution_count": 3,
      "metadata": {
        "id": "lUEh9Jxx2uYw"
      },
      "outputs": [
        {
          "name": "stdout",
          "output_type": "stream",
          "text": [
            "/bin/bash: line 1: unzip: command not found\n"
          ]
        }
      ],
      "source": [
        "! unzip /content/datos_abiertos_covid19.zip"
      ]
    },
    {
      "cell_type": "code",
      "execution_count": 4,
      "metadata": {
        "id": "YWTqIVR_3C5j"
      },
      "outputs": [
        {
          "name": "stdout",
          "output_type": "stream",
          "text": [
            "<class 'pandas.core.frame.DataFrame'>\n",
            "RangeIndex: 1183124 entries, 0 to 1183123\n",
            "Data columns (total 40 columns):\n",
            " #   Column                 Non-Null Count    Dtype \n",
            "---  ------                 --------------    ----- \n",
            " 0   FECHA_ACTUALIZACION    1183124 non-null  object\n",
            " 1   ID_REGISTRO            1183124 non-null  object\n",
            " 2   ORIGEN                 1183124 non-null  int64 \n",
            " 3   SECTOR                 1183124 non-null  int64 \n",
            " 4   ENTIDAD_UM             1183124 non-null  int64 \n",
            " 5   SEXO                   1183124 non-null  int64 \n",
            " 6   ENTIDAD_NAC            1183124 non-null  int64 \n",
            " 7   ENTIDAD_RES            1183124 non-null  int64 \n",
            " 8   MUNICIPIO_RES          1183124 non-null  int64 \n",
            " 9   TIPO_PACIENTE          1183124 non-null  int64 \n",
            " 10  FECHA_INGRESO          1183124 non-null  object\n",
            " 11  FECHA_SINTOMAS         1183124 non-null  object\n",
            " 12  FECHA_DEF              1183124 non-null  object\n",
            " 13  INTUBADO               1183124 non-null  int64 \n",
            " 14  NEUMONIA               1183124 non-null  int64 \n",
            " 15  EDAD                   1183124 non-null  int64 \n",
            " 16  NACIONALIDAD           1183124 non-null  int64 \n",
            " 17  EMBARAZO               1183124 non-null  int64 \n",
            " 18  HABLA_LENGUA_INDIG     1183124 non-null  int64 \n",
            " 19  INDIGENA               1183124 non-null  int64 \n",
            " 20  DIABETES               1183124 non-null  int64 \n",
            " 21  EPOC                   1183124 non-null  int64 \n",
            " 22  ASMA                   1183124 non-null  int64 \n",
            " 23  INMUSUPR               1183124 non-null  int64 \n",
            " 24  HIPERTENSION           1183124 non-null  int64 \n",
            " 25  OTRA_COM               1183124 non-null  int64 \n",
            " 26  CARDIOVASCULAR         1183124 non-null  int64 \n",
            " 27  OBESIDAD               1183124 non-null  int64 \n",
            " 28  RENAL_CRONICA          1183124 non-null  int64 \n",
            " 29  TABAQUISMO             1183124 non-null  int64 \n",
            " 30  OTRO_CASO              1183124 non-null  int64 \n",
            " 31  TOMA_MUESTRA_LAB       1183124 non-null  int64 \n",
            " 32  RESULTADO_LAB          1183124 non-null  int64 \n",
            " 33  TOMA_MUESTRA_ANTIGENO  1183124 non-null  int64 \n",
            " 34  RESULTADO_ANTIGENO     1183124 non-null  int64 \n",
            " 35  CLASIFICACION_FINAL    1183124 non-null  int64 \n",
            " 36  MIGRANTE               1183124 non-null  int64 \n",
            " 37  PAIS_NACIONALIDAD      1183124 non-null  object\n",
            " 38  PAIS_ORIGEN            1183124 non-null  object\n",
            " 39  UCI                    1183124 non-null  int64 \n",
            "dtypes: int64(33), object(7)\n",
            "memory usage: 361.1+ MB\n"
          ]
        }
      ],
      "source": [
        "import numpy as np\n",
        "import pandas as pd\n",
        "\n",
        "\n",
        "data=pd.read_csv('COVID19MEXICO.csv',low_memory=False)\n",
        "data.info()"
      ]
    },
    {
      "cell_type": "code",
      "execution_count": 5,
      "metadata": {
        "id": "aytu-jda4kPZ"
      },
      "outputs": [],
      "source": [
        "df=data\n",
        "\n",
        "df = df.drop(columns=['SECTOR','MUNICIPIO_RES','HABLA_LENGUA_INDIG','ID_REGISTRO','ORIGEN','PAIS_NACIONALIDAD','PAIS_ORIGEN','INDIGENA','ENTIDAD_UM','ENTIDAD_NAC','NACIONALIDAD','ENTIDAD_RES'])\n",
        "df.columns\n",
        "\n",
        "\n",
        "df['FECHA_ACTUALIZACION']=pd.to_datetime(df['FECHA_ACTUALIZACION'])\n",
        "df['FECHA_INGRESO']=pd.to_datetime(df['FECHA_INGRESO'])\n",
        "df['FECHA_SINTOMAS']=pd.to_datetime(df['FECHA_SINTOMAS'])\n",
        "df['FECHA_DEF']=pd.to_datetime(df['FECHA_DEF'],errors='coerce')\n",
        "\n",
        "\n",
        "for col in ['TIPO_PACIENTE']:\n",
        "  df[col]=df[col].astype(str)\n",
        "\n",
        "\n",
        "from sklearn.preprocessing import LabelEncoder\n",
        "\n",
        "le= LabelEncoder()\n",
        "\n",
        "\n",
        "for col in ['TIPO_PACIENTE','SEXO']:\n",
        "  df[col]=le.fit_transform(df[col])\n",
        "# crear caracteristicas apartir de las fechas\n",
        "\n",
        "df['DIAS_DEFUNCION']=(df['FECHA_ACTUALIZACION']- df['FECHA_DEF']).dt.days\n",
        "df['DIAS_HOSPITALIZACION']=(df['FECHA_ACTUALIZACION']- df['FECHA_INGRESO']).dt.days\n",
        "df['DIAS_SINTOMAS']=(df['FECHA_ACTUALIZACION']- df['FECHA_SINTOMAS']).dt.days\n",
        "\n",
        "\n",
        "# Red NUERONAL REVISAR ESTO\n",
        "df['DIAS_DEFUNCION'] = df['DIAS_DEFUNCION'].apply(lambda x: 0 if x < 0 else x)\n",
        "\n",
        "\n",
        "\n",
        "df = df.drop(columns=['FECHA_ACTUALIZACION', 'FECHA_INGRESO', 'FECHA_SINTOMAS', 'FECHA_DEF','DIAS_DEFUNCION','MIGRANTE'])\n",
        "\n",
        "X=df.drop(columns=['CLASIFICACION_FINAL'])\n",
        "y=df['CLASIFICACION_FINAL']"
      ]
    },
    {
      "cell_type": "code",
      "execution_count": 6,
      "metadata": {
        "id": "8e8A20ps6q4l"
      },
      "outputs": [],
      "source": [
        "from sklearn.model_selection import train_test_split\n",
        "\n",
        "X_train, X_test, y_train, y_test = train_test_split(X, y, test_size=0.2, random_state=42)\n"
      ]
    },
    {
      "cell_type": "code",
      "execution_count": 7,
      "metadata": {
        "id": "an-qCIA8BFIC"
      },
      "outputs": [
        {
          "name": "stdout",
          "output_type": "stream",
          "text": [
            "<class 'pandas.core.frame.DataFrame'>\n",
            "RangeIndex: 1183124 entries, 0 to 1183123\n",
            "Data columns (total 25 columns):\n",
            " #   Column                 Non-Null Count    Dtype\n",
            "---  ------                 --------------    -----\n",
            " 0   SEXO                   1183124 non-null  int64\n",
            " 1   TIPO_PACIENTE          1183124 non-null  int64\n",
            " 2   INTUBADO               1183124 non-null  int64\n",
            " 3   NEUMONIA               1183124 non-null  int64\n",
            " 4   EDAD                   1183124 non-null  int64\n",
            " 5   EMBARAZO               1183124 non-null  int64\n",
            " 6   DIABETES               1183124 non-null  int64\n",
            " 7   EPOC                   1183124 non-null  int64\n",
            " 8   ASMA                   1183124 non-null  int64\n",
            " 9   INMUSUPR               1183124 non-null  int64\n",
            " 10  HIPERTENSION           1183124 non-null  int64\n",
            " 11  OTRA_COM               1183124 non-null  int64\n",
            " 12  CARDIOVASCULAR         1183124 non-null  int64\n",
            " 13  OBESIDAD               1183124 non-null  int64\n",
            " 14  RENAL_CRONICA          1183124 non-null  int64\n",
            " 15  TABAQUISMO             1183124 non-null  int64\n",
            " 16  OTRO_CASO              1183124 non-null  int64\n",
            " 17  TOMA_MUESTRA_LAB       1183124 non-null  int64\n",
            " 18  RESULTADO_LAB          1183124 non-null  int64\n",
            " 19  TOMA_MUESTRA_ANTIGENO  1183124 non-null  int64\n",
            " 20  RESULTADO_ANTIGENO     1183124 non-null  int64\n",
            " 21  CLASIFICACION_FINAL    1183124 non-null  int64\n",
            " 22  UCI                    1183124 non-null  int64\n",
            " 23  DIAS_HOSPITALIZACION   1183124 non-null  int64\n",
            " 24  DIAS_SINTOMAS          1183124 non-null  int64\n",
            "dtypes: int64(25)\n",
            "memory usage: 225.7 MB\n"
          ]
        }
      ],
      "source": [
        "df.info()"
      ]
    },
    {
      "cell_type": "code",
      "execution_count": 8,
      "metadata": {
        "id": "ZOv6vapw_ghp"
      },
      "outputs": [],
      "source": [
        "from sklearn.ensemble import RandomForestClassifier\n",
        "from sklearn.metrics import classification_report\n",
        "clf=RandomForestClassifier(random_state=42)\n",
        "#clf.fit(X_train,y_train)\n",
        "#y_pred=clf.predict(X_test)\n",
        "\n",
        "#print(classification_report(y_test,y_pred))\n"
      ]
    },
    {
      "cell_type": "code",
      "execution_count": 9,
      "metadata": {
        "id": "WegSuOMNHRoP"
      },
      "outputs": [
        {
          "name": "stderr",
          "output_type": "stream",
          "text": [
            "/home/codedspirit/anaconda3/envs/rapids-23.10/lib/python3.10/site-packages/cuml/internals/api_decorators.py:344: UserWarning: For reproducible results in Random Forest Classifier or for almost reproducible results in Random Forest Regressor, n_streams=1 is recommended. If n_streams is > 1, results may vary due to stream/thread timing differences, even when random_state is set\n",
            "  return func(**kwargs)\n"
          ]
        },
        {
          "name": "stdout",
          "output_type": "stream",
          "text": [
            "              precision    recall  f1-score   support\n",
            "\n",
            "           1       0.95      0.01      0.02      1670\n",
            "           2       0.00      0.00      0.00         5\n",
            "           3       1.00      1.00      1.00     83882\n",
            "           4       0.00      0.00      0.00        29\n",
            "           5       0.59      0.21      0.32       391\n",
            "           6       0.94      0.97      0.96     12457\n",
            "           7       0.99      1.00      0.99    138191\n",
            "\n",
            "    accuracy                           0.99    236625\n",
            "   macro avg       0.64      0.46      0.47    236625\n",
            "weighted avg       0.99      0.99      0.99    236625\n",
            "\n"
          ]
        },
        {
          "name": "stderr",
          "output_type": "stream",
          "text": [
            "/home/codedspirit/anaconda3/envs/rapids-23.10/lib/python3.10/site-packages/sklearn/metrics/_classification.py:1469: UndefinedMetricWarning: Precision and F-score are ill-defined and being set to 0.0 in labels with no predicted samples. Use `zero_division` parameter to control this behavior.\n",
            "  _warn_prf(average, modifier, msg_start, len(result))\n",
            "/home/codedspirit/anaconda3/envs/rapids-23.10/lib/python3.10/site-packages/sklearn/metrics/_classification.py:1469: UndefinedMetricWarning: Precision and F-score are ill-defined and being set to 0.0 in labels with no predicted samples. Use `zero_division` parameter to control this behavior.\n",
            "  _warn_prf(average, modifier, msg_start, len(result))\n",
            "/home/codedspirit/anaconda3/envs/rapids-23.10/lib/python3.10/site-packages/sklearn/metrics/_classification.py:1469: UndefinedMetricWarning: Precision and F-score are ill-defined and being set to 0.0 in labels with no predicted samples. Use `zero_division` parameter to control this behavior.\n",
            "  _warn_prf(average, modifier, msg_start, len(result))\n"
          ]
        }
      ],
      "source": [
        "import cuml\n",
        "from cuml.ensemble import RandomForestClassifier\n",
        "from sklearn.metrics import classification_report\n",
        "clf=RandomForestClassifier(random_state=42)\n",
        "#\n",
        "X_train=X_train.astype('float32')\n",
        "y_train=y_train.astype('float32')\n",
        "\n",
        "clf.fit(X_train,y_train)\n",
        "y_pred=clf.predict(X_test)\n",
        "\n",
        "print(classification_report(y_test,y_pred))\n"
      ]
    },
    {
      "cell_type": "code",
      "execution_count": 10,
      "metadata": {
        "id": "P5LvOlTGJ179"
      },
      "outputs": [
        {
          "name": "stderr",
          "output_type": "stream",
          "text": [
            "/home/codedspirit/anaconda3/envs/rapids-23.10/lib/python3.10/site-packages/cuml/internals/api_decorators.py:344: UserWarning: For reproducible results in Random Forest Classifier or for almost reproducible results in Random Forest Regressor, n_streams=1 is recommended. If n_streams is > 1, results may vary due to stream/thread timing differences, even when random_state is set\n",
            "  return func(**kwargs)\n"
          ]
        },
        {
          "name": "stdout",
          "output_type": "stream",
          "text": [
            "Modelo resultados\n",
            "              precision    recall  f1-score   support\n",
            "\n",
            "           1       0.95      0.01      0.02      1670\n",
            "           2       0.00      0.00      0.00         5\n",
            "           3       1.00      1.00      1.00     83882\n",
            "           4       0.00      0.00      0.00        29\n",
            "           5       0.59      0.21      0.32       391\n",
            "           6       0.94      0.97      0.96     12457\n",
            "           7       0.99      1.00      0.99    138191\n",
            "\n",
            "    accuracy                           0.99    236625\n",
            "   macro avg       0.64      0.46      0.47    236625\n",
            "weighted avg       0.99      0.99      0.99    236625\n",
            "\n"
          ]
        },
        {
          "name": "stderr",
          "output_type": "stream",
          "text": [
            "/home/codedspirit/anaconda3/envs/rapids-23.10/lib/python3.10/site-packages/sklearn/metrics/_classification.py:1469: UndefinedMetricWarning: Precision and F-score are ill-defined and being set to 0.0 in labels with no predicted samples. Use `zero_division` parameter to control this behavior.\n",
            "  _warn_prf(average, modifier, msg_start, len(result))\n",
            "/home/codedspirit/anaconda3/envs/rapids-23.10/lib/python3.10/site-packages/sklearn/metrics/_classification.py:1469: UndefinedMetricWarning: Precision and F-score are ill-defined and being set to 0.0 in labels with no predicted samples. Use `zero_division` parameter to control this behavior.\n",
            "  _warn_prf(average, modifier, msg_start, len(result))\n",
            "/home/codedspirit/anaconda3/envs/rapids-23.10/lib/python3.10/site-packages/sklearn/metrics/_classification.py:1469: UndefinedMetricWarning: Precision and F-score are ill-defined and being set to 0.0 in labels with no predicted samples. Use `zero_division` parameter to control this behavior.\n",
            "  _warn_prf(average, modifier, msg_start, len(result))\n"
          ]
        },
        {
          "name": "stdout",
          "output_type": "stream",
          "text": [
            "Modelo resultados\n",
            "              precision    recall  f1-score   support\n",
            "\n",
            "           1       0.95      0.01      0.02      1670\n",
            "           2       0.00      0.00      0.00         5\n",
            "           3       1.00      1.00      1.00     83882\n",
            "           4       0.00      0.00      0.00        29\n",
            "           5       0.59      0.21      0.32       391\n",
            "           6       0.94      0.97      0.96     12457\n",
            "           7       0.99      1.00      0.99    138191\n",
            "\n",
            "    accuracy                           0.99    236625\n",
            "   macro avg       0.64      0.46      0.47    236625\n",
            "weighted avg       0.99      0.99      0.99    236625\n",
            "\n"
          ]
        },
        {
          "name": "stderr",
          "output_type": "stream",
          "text": [
            "/home/codedspirit/anaconda3/envs/rapids-23.10/lib/python3.10/site-packages/sklearn/metrics/_classification.py:1469: UndefinedMetricWarning: Precision and F-score are ill-defined and being set to 0.0 in labels with no predicted samples. Use `zero_division` parameter to control this behavior.\n",
            "  _warn_prf(average, modifier, msg_start, len(result))\n",
            "/home/codedspirit/anaconda3/envs/rapids-23.10/lib/python3.10/site-packages/sklearn/metrics/_classification.py:1469: UndefinedMetricWarning: Precision and F-score are ill-defined and being set to 0.0 in labels with no predicted samples. Use `zero_division` parameter to control this behavior.\n",
            "  _warn_prf(average, modifier, msg_start, len(result))\n",
            "/home/codedspirit/anaconda3/envs/rapids-23.10/lib/python3.10/site-packages/sklearn/metrics/_classification.py:1469: UndefinedMetricWarning: Precision and F-score are ill-defined and being set to 0.0 in labels with no predicted samples. Use `zero_division` parameter to control this behavior.\n",
            "  _warn_prf(average, modifier, msg_start, len(result))\n"
          ]
        }
      ],
      "source": [
        "import cuml\n",
        "from cuml.ensemble import RandomForestClassifier\n",
        "from cuml.neighbors import KNeighborsClassifier\n",
        "\n",
        "\n",
        "cuml_RFC=RandomForestClassifier(random_state=42)\n",
        "cuml_KNC=KNeighborsClassifier()\n",
        "\n",
        "classifiers=[\n",
        "    {\n",
        "        'Ramdom Forest',cuml_RFC\n",
        "    },\n",
        "    {\n",
        "        'KNN',cuml_RFC\n",
        "    }\n",
        "]\n",
        "\n",
        "\n",
        "for name,clf in classifiers:\n",
        "  clf.fit(X_train,y_train)\n",
        "  y_pred=clf.predict(X_test)\n",
        "  print(f'Modelo resultados')\n",
        "  print(classification_report(y_test,y_pred))\n",
        "\n",
        "\n"
      ]
    },
    {
      "cell_type": "code",
      "execution_count": 11,
      "metadata": {
        "id": "pUeYZr-fMWsm"
      },
      "outputs": [],
      "source": [
        "import locale\n",
        "def getpreferredencoding(do_setlocale = True):\n",
        "    return \"UTF-8\"\n",
        "locale.getpreferredencoding = getpreferredencoding"
      ]
    },
    {
      "cell_type": "code",
      "execution_count": 12,
      "metadata": {
        "id": "SyBKcHPvKq6i"
      },
      "outputs": [
        {
          "name": "stdout",
          "output_type": "stream",
          "text": [
            "Requirement already satisfied: gradio in /home/codedspirit/anaconda3/envs/rapids-23.10/lib/python3.10/site-packages (4.1.1)\n",
            "Requirement already satisfied: aiofiles<24.0,>=22.0 in /home/codedspirit/anaconda3/envs/rapids-23.10/lib/python3.10/site-packages (from gradio) (23.2.1)\n",
            "Requirement already satisfied: altair<6.0,>=4.2.0 in /home/codedspirit/anaconda3/envs/rapids-23.10/lib/python3.10/site-packages (from gradio) (5.1.2)\n",
            "Requirement already satisfied: fastapi in /home/codedspirit/anaconda3/envs/rapids-23.10/lib/python3.10/site-packages (from gradio) (0.104.1)\n",
            "Requirement already satisfied: ffmpy in /home/codedspirit/anaconda3/envs/rapids-23.10/lib/python3.10/site-packages (from gradio) (0.3.1)\n",
            "Requirement already satisfied: gradio-client==0.7.0 in /home/codedspirit/anaconda3/envs/rapids-23.10/lib/python3.10/site-packages (from gradio) (0.7.0)\n",
            "Requirement already satisfied: httpx in /home/codedspirit/anaconda3/envs/rapids-23.10/lib/python3.10/site-packages (from gradio) (0.25.1)\n",
            "Requirement already satisfied: huggingface-hub>=0.14.0 in /home/codedspirit/anaconda3/envs/rapids-23.10/lib/python3.10/site-packages (from gradio) (0.18.0)\n",
            "Requirement already satisfied: importlib-resources<7.0,>=1.3 in /home/codedspirit/anaconda3/envs/rapids-23.10/lib/python3.10/site-packages (from gradio) (6.1.0)\n",
            "Requirement already satisfied: jinja2<4.0 in /home/codedspirit/anaconda3/envs/rapids-23.10/lib/python3.10/site-packages (from gradio) (3.1.2)\n",
            "Requirement already satisfied: markupsafe~=2.0 in /home/codedspirit/anaconda3/envs/rapids-23.10/lib/python3.10/site-packages (from gradio) (2.1.1)\n",
            "Requirement already satisfied: matplotlib~=3.0 in /home/codedspirit/anaconda3/envs/rapids-23.10/lib/python3.10/site-packages (from gradio) (3.8.0)\n",
            "Requirement already satisfied: numpy~=1.0 in /home/codedspirit/anaconda3/envs/rapids-23.10/lib/python3.10/site-packages (from gradio) (1.24.4)\n",
            "Requirement already satisfied: orjson~=3.0 in /home/codedspirit/anaconda3/envs/rapids-23.10/lib/python3.10/site-packages (from gradio) (3.9.10)\n",
            "Requirement already satisfied: packaging in /home/codedspirit/anaconda3/envs/rapids-23.10/lib/python3.10/site-packages (from gradio) (23.1)\n",
            "Requirement already satisfied: pandas<3.0,>=1.0 in /home/codedspirit/anaconda3/envs/rapids-23.10/lib/python3.10/site-packages (from gradio) (1.5.3)\n",
            "Requirement already satisfied: pillow<11.0,>=8.0 in /home/codedspirit/anaconda3/envs/rapids-23.10/lib/python3.10/site-packages (from gradio) (10.1.0)\n",
            "Requirement already satisfied: pydantic>=2.0 in /home/codedspirit/anaconda3/envs/rapids-23.10/lib/python3.10/site-packages (from gradio) (2.4.2)\n",
            "Requirement already satisfied: pydub in /home/codedspirit/anaconda3/envs/rapids-23.10/lib/python3.10/site-packages (from gradio) (0.25.1)\n",
            "Requirement already satisfied: python-multipart in /home/codedspirit/anaconda3/envs/rapids-23.10/lib/python3.10/site-packages (from gradio) (0.0.6)\n",
            "Requirement already satisfied: pyyaml<7.0,>=5.0 in /home/codedspirit/anaconda3/envs/rapids-23.10/lib/python3.10/site-packages (from gradio) (6.0.1)\n",
            "Requirement already satisfied: requests~=2.0 in /home/codedspirit/anaconda3/envs/rapids-23.10/lib/python3.10/site-packages (from gradio) (2.31.0)\n",
            "Requirement already satisfied: semantic-version~=2.0 in /home/codedspirit/anaconda3/envs/rapids-23.10/lib/python3.10/site-packages (from gradio) (2.10.0)\n",
            "Requirement already satisfied: tomlkit==0.12.0 in /home/codedspirit/anaconda3/envs/rapids-23.10/lib/python3.10/site-packages (from gradio) (0.12.0)\n",
            "Requirement already satisfied: typer<1.0,>=0.9 in /home/codedspirit/anaconda3/envs/rapids-23.10/lib/python3.10/site-packages (from typer[all]<1.0,>=0.9->gradio) (0.9.0)\n",
            "Requirement already satisfied: typing-extensions~=4.0 in /home/codedspirit/anaconda3/envs/rapids-23.10/lib/python3.10/site-packages (from gradio) (4.8.0)\n",
            "Requirement already satisfied: uvicorn>=0.14.0 in /home/codedspirit/anaconda3/envs/rapids-23.10/lib/python3.10/site-packages (from gradio) (0.24.0.post1)\n",
            "Requirement already satisfied: websockets<12.0,>=10.0 in /home/codedspirit/anaconda3/envs/rapids-23.10/lib/python3.10/site-packages (from gradio) (10.4)\n",
            "Requirement already satisfied: fsspec in /home/codedspirit/anaconda3/envs/rapids-23.10/lib/python3.10/site-packages (from gradio-client==0.7.0->gradio) (2023.9.2)\n",
            "Requirement already satisfied: jsonschema>=3.0 in /home/codedspirit/anaconda3/envs/rapids-23.10/lib/python3.10/site-packages (from altair<6.0,>=4.2.0->gradio) (4.19.2)\n",
            "Requirement already satisfied: toolz in /home/codedspirit/anaconda3/envs/rapids-23.10/lib/python3.10/site-packages (from altair<6.0,>=4.2.0->gradio) (0.12.0)\n",
            "Requirement already satisfied: filelock in /home/codedspirit/anaconda3/envs/rapids-23.10/lib/python3.10/site-packages (from huggingface-hub>=0.14.0->gradio) (3.13.1)\n",
            "Requirement already satisfied: tqdm>=4.42.1 in /home/codedspirit/anaconda3/envs/rapids-23.10/lib/python3.10/site-packages (from huggingface-hub>=0.14.0->gradio) (4.65.0)\n",
            "Requirement already satisfied: contourpy>=1.0.1 in /home/codedspirit/anaconda3/envs/rapids-23.10/lib/python3.10/site-packages (from matplotlib~=3.0->gradio) (1.0.5)\n",
            "Requirement already satisfied: cycler>=0.10 in /home/codedspirit/anaconda3/envs/rapids-23.10/lib/python3.10/site-packages (from matplotlib~=3.0->gradio) (0.11.0)\n",
            "Requirement already satisfied: fonttools>=4.22.0 in /home/codedspirit/anaconda3/envs/rapids-23.10/lib/python3.10/site-packages (from matplotlib~=3.0->gradio) (4.25.0)\n",
            "Requirement already satisfied: kiwisolver>=1.0.1 in /home/codedspirit/anaconda3/envs/rapids-23.10/lib/python3.10/site-packages (from matplotlib~=3.0->gradio) (1.4.4)\n",
            "Requirement already satisfied: pyparsing>=2.3.1 in /home/codedspirit/anaconda3/envs/rapids-23.10/lib/python3.10/site-packages (from matplotlib~=3.0->gradio) (3.0.9)\n",
            "Requirement already satisfied: python-dateutil>=2.7 in /home/codedspirit/anaconda3/envs/rapids-23.10/lib/python3.10/site-packages (from matplotlib~=3.0->gradio) (2.8.2)\n",
            "Requirement already satisfied: pytz>=2020.1 in /home/codedspirit/anaconda3/envs/rapids-23.10/lib/python3.10/site-packages (from pandas<3.0,>=1.0->gradio) (2023.3.post1)\n",
            "Requirement already satisfied: annotated-types>=0.4.0 in /home/codedspirit/anaconda3/envs/rapids-23.10/lib/python3.10/site-packages (from pydantic>=2.0->gradio) (0.6.0)\n",
            "Requirement already satisfied: pydantic-core==2.10.1 in /home/codedspirit/anaconda3/envs/rapids-23.10/lib/python3.10/site-packages (from pydantic>=2.0->gradio) (2.10.1)\n",
            "Requirement already satisfied: charset-normalizer<4,>=2 in /home/codedspirit/anaconda3/envs/rapids-23.10/lib/python3.10/site-packages (from requests~=2.0->gradio) (2.0.4)\n",
            "Requirement already satisfied: idna<4,>=2.5 in /home/codedspirit/anaconda3/envs/rapids-23.10/lib/python3.10/site-packages (from requests~=2.0->gradio) (3.4)\n",
            "Requirement already satisfied: urllib3<3,>=1.21.1 in /home/codedspirit/anaconda3/envs/rapids-23.10/lib/python3.10/site-packages (from requests~=2.0->gradio) (1.26.18)\n",
            "Requirement already satisfied: certifi>=2017.4.17 in /home/codedspirit/anaconda3/envs/rapids-23.10/lib/python3.10/site-packages (from requests~=2.0->gradio) (2023.7.22)\n",
            "Requirement already satisfied: click<9.0.0,>=7.1.1 in /home/codedspirit/anaconda3/envs/rapids-23.10/lib/python3.10/site-packages (from typer<1.0,>=0.9->typer[all]<1.0,>=0.9->gradio) (8.1.7)\n",
            "Requirement already satisfied: colorama<0.5.0,>=0.4.3 in /home/codedspirit/anaconda3/envs/rapids-23.10/lib/python3.10/site-packages (from typer[all]<1.0,>=0.9->gradio) (0.4.6)\n",
            "Requirement already satisfied: shellingham<2.0.0,>=1.3.0 in /home/codedspirit/anaconda3/envs/rapids-23.10/lib/python3.10/site-packages (from typer[all]<1.0,>=0.9->gradio) (1.5.4)\n",
            "Requirement already satisfied: rich<14.0.0,>=10.11.0 in /home/codedspirit/anaconda3/envs/rapids-23.10/lib/python3.10/site-packages (from typer[all]<1.0,>=0.9->gradio) (13.6.0)\n",
            "Requirement already satisfied: h11>=0.8 in /home/codedspirit/anaconda3/envs/rapids-23.10/lib/python3.10/site-packages (from uvicorn>=0.14.0->gradio) (0.14.0)\n",
            "Requirement already satisfied: anyio<4.0.0,>=3.7.1 in /home/codedspirit/anaconda3/envs/rapids-23.10/lib/python3.10/site-packages (from fastapi->gradio) (3.7.1)\n",
            "Requirement already satisfied: starlette<0.28.0,>=0.27.0 in /home/codedspirit/anaconda3/envs/rapids-23.10/lib/python3.10/site-packages (from fastapi->gradio) (0.27.0)\n",
            "Requirement already satisfied: httpcore in /home/codedspirit/anaconda3/envs/rapids-23.10/lib/python3.10/site-packages (from httpx->gradio) (1.0.1)\n",
            "Requirement already satisfied: sniffio in /home/codedspirit/anaconda3/envs/rapids-23.10/lib/python3.10/site-packages (from httpx->gradio) (1.2.0)\n",
            "Requirement already satisfied: exceptiongroup in /home/codedspirit/anaconda3/envs/rapids-23.10/lib/python3.10/site-packages (from anyio<4.0.0,>=3.7.1->fastapi->gradio) (1.0.4)\n",
            "Requirement already satisfied: attrs>=22.2.0 in /home/codedspirit/anaconda3/envs/rapids-23.10/lib/python3.10/site-packages (from jsonschema>=3.0->altair<6.0,>=4.2.0->gradio) (23.1.0)\n",
            "Requirement already satisfied: jsonschema-specifications>=2023.03.6 in /home/codedspirit/anaconda3/envs/rapids-23.10/lib/python3.10/site-packages (from jsonschema>=3.0->altair<6.0,>=4.2.0->gradio) (2023.7.1)\n",
            "Requirement already satisfied: referencing>=0.28.4 in /home/codedspirit/anaconda3/envs/rapids-23.10/lib/python3.10/site-packages (from jsonschema>=3.0->altair<6.0,>=4.2.0->gradio) (0.30.2)\n",
            "Requirement already satisfied: rpds-py>=0.7.1 in /home/codedspirit/anaconda3/envs/rapids-23.10/lib/python3.10/site-packages (from jsonschema>=3.0->altair<6.0,>=4.2.0->gradio) (0.10.6)\n",
            "Requirement already satisfied: six>=1.5 in /home/codedspirit/anaconda3/envs/rapids-23.10/lib/python3.10/site-packages (from python-dateutil>=2.7->matplotlib~=3.0->gradio) (1.16.0)\n",
            "Requirement already satisfied: markdown-it-py>=2.2.0 in /home/codedspirit/anaconda3/envs/rapids-23.10/lib/python3.10/site-packages (from rich<14.0.0,>=10.11.0->typer[all]<1.0,>=0.9->gradio) (2.2.0)\n",
            "Requirement already satisfied: pygments<3.0.0,>=2.13.0 in /home/codedspirit/anaconda3/envs/rapids-23.10/lib/python3.10/site-packages (from rich<14.0.0,>=10.11.0->typer[all]<1.0,>=0.9->gradio) (2.15.1)\n",
            "Requirement already satisfied: mdurl~=0.1 in /home/codedspirit/anaconda3/envs/rapids-23.10/lib/python3.10/site-packages (from markdown-it-py>=2.2.0->rich<14.0.0,>=10.11.0->typer[all]<1.0,>=0.9->gradio) (0.1.0)\n"
          ]
        }
      ],
      "source": [
        "! pip install gradio"
      ]
    },
    {
      "cell_type": "code",
      "execution_count": 13,
      "metadata": {
        "id": "af4rff6XOBGT"
      },
      "outputs": [
        {
          "ename": "SyntaxError",
          "evalue": "incomplete input (898689771.py, line 5)",
          "output_type": "error",
          "traceback": [
            "\u001b[0;36m  Cell \u001b[0;32mIn[13], line 5\u001b[0;36m\u001b[0m\n\u001b[0;31m    migrante, uci, dias_hospitalizacion, dias_sintomas ):\u001b[0m\n\u001b[0m                                                          ^\u001b[0m\n\u001b[0;31mSyntaxError\u001b[0m\u001b[0;31m:\u001b[0m incomplete input\n"
          ]
        }
      ],
      "source": [
        "def predict(sexo, tipo_paciente, intubado, neumonia, edad, embarazo, diabetes, epoc, asma, inmusupr,\n",
        "            hipertension, otra_com, cardiovascular, obesidad,\n",
        "            renal_cronica, tabaquismo, otro_caso, toma_muestra_lab,\n",
        "            resultado_lab, toma_muestra_antigeno, resultado_antigeno,\n",
        "            migrante, uci, dias_hospitalizacion, dias_sintomas ): "
      ]
    },
    {
      "cell_type": "code",
      "execution_count": null,
      "metadata": {},
      "outputs": [
        {
          "name": "stdout",
          "output_type": "stream",
          "text": [
            "Requirement already satisfied: typing-extensions in /home/codedspirit/anaconda3/envs/rapids-23.10/lib/python3.10/site-packages (4.8.0)\n",
            "Note: you may need to restart the kernel to use updated packages.\n"
          ]
        }
      ],
      "source": [
        "pip install typing-extensions --upgrade"
      ]
    },
    {
      "cell_type": "code",
      "execution_count": 14,
      "metadata": {
        "id": "X6w1zIbUNCkq"
      },
      "outputs": [
        {
          "name": "stderr",
          "output_type": "stream",
          "text": [
            "/home/codedspirit/anaconda3/envs/rapids-23.10/lib/python3.10/site-packages/tqdm/auto.py:21: TqdmWarning: IProgress not found. Please update jupyter and ipywidgets. See https://ipywidgets.readthedocs.io/en/stable/user_install.html\n",
            "  from .autonotebook import tqdm as notebook_tqdm\n"
          ]
        },
        {
          "name": "stdout",
          "output_type": "stream",
          "text": [
            "Running on local URL:  http://127.0.0.1:7860\n",
            "\n",
            "To create a public link, set `share=True` in `launch()`.\n"
          ]
        },
        {
          "data": {
            "text/html": [
              "<div><iframe src=\"http://127.0.0.1:7860/\" width=\"100%\" height=\"500\" allow=\"autoplay; camera; microphone; clipboard-read; clipboard-write;\" frameborder=\"0\" allowfullscreen></iframe></div>"
            ],
            "text/plain": [
              "<IPython.core.display.HTML object>"
            ]
          },
          "metadata": {},
          "output_type": "display_data"
        },
        {
          "name": "stdout",
          "output_type": "stream",
          "text": [
            "Keyboard interruption in main thread... closing server.\n"
          ]
        }
      ],
      "source": [
        "import gradio as gr\n",
        "import pandas as pd\n",
        "import numpy as np\n",
        "\n",
        "\n",
        "\n",
        "\n",
        "def predict(sexo, tipo_paciente, intubado, neumonia, edad, embarazo,\n",
        "             diabetes, epoc, asma, inmusupr,\n",
        "            hipertension, otra_com, cardiovascular, obesidad,\n",
        "            renal_cronica, tabaquismo, otro_caso, toma_muestra_lab,\n",
        "            resultado_lab, toma_muestra_antigeno, resultado_antigeno,\n",
        "           uci, dias_hospitalizacion, dias_sintomas):\n",
        "\n",
        "\n",
        "    # Crea un DataFrame con los valores de entrada\n",
        "    input_data = pd.DataFrame([[\n",
        "        sexo, tipo_paciente, intubado, neumonia, edad, embarazo,\n",
        "       diabetes, epoc, asma, inmusupr,\n",
        "        hipertension, otra_com, cardiovascular, obesidad,\n",
        "        renal_cronica, tabaquismo, otro_caso, toma_muestra_lab,\n",
        "        resultado_lab, toma_muestra_antigeno, resultado_antigeno, uci, dias_hospitalizacion, dias_sintomas\n",
        "        ]], columns=[\n",
        "        'SEXO', 'TIPO_PACIENTE', 'INTUBADO', 'NEUMONIA', 'EDAD', 'EMBARAZO','DIABETES', 'EPOC',\n",
        "        'ASMA', 'INMUSUPR','HIPERTENSION', 'OTRA_COM', 'CARDIOVASCULAR', 'OBESIDAD','RENAL_CRONICA',\n",
        "        'TABAQUISMO', 'OTRO_CASO', 'TOMA_MUESTRA_LAB','RESULTADO_LAB', 'TOMA_MUESTRA_ANTIGENO',\n",
        "        'RESULTADO_ANTIGENO','UCI', 'DIAS_HOSPITALIZACION', 'DIAS_SINTOMAS'])\n",
        "\n",
        "    prediction = clf.predict(input_data)\n",
        "    return prediction\n",
        "\n",
        "\n",
        "\n",
        "\n",
        "gr.Row\n",
        "inputs = [\n",
        "    gr.Radio(choices=[0, 1], label='Sexo'),\n",
        "    gr.Radio(choices=[0, 1], label='Tipo de Paciente'),\n",
        "    gr.Radio(choices=[0, 1, 97, 98, 99], label='Intubado'),\n",
        "    gr.Radio(choices=[0, 1, 97, 98, 99], label='Neumonía'),\n",
        "    gr.Slider(minimum=0, maximum=120, value=30, label='Edad'),\n",
        "    gr.Radio(choices=[1, 2, 97, 98, 99], label='Embarazo'),\n",
        "    gr.Radio(choices=[1, 2, 98], label='Diabetes'),\n",
        "    gr.Radio(choices=[1, 2, 98], label='EPOC'),\n",
        "    gr.Radio(choices=[1, 2, 98], label='Asma'),\n",
        "    gr.Radio(choices=[1, 2, 98], label='Inmunosupresión'),\n",
        "    gr.Radio(choices=[1, 2, 98], label='Hipertensión'),\n",
        "    gr.Radio(choices=[1, 2, 98], label='Otra Comorbilidad'),\n",
        "    gr.Radio(choices=[1, 2, 98], label='Cardiovascular'),\n",
        "    gr.Radio(choices=[1, 2, 98], label='Obesidad'),\n",
        "    gr.Radio(choices=[1, 2, 98], label='Enfermedad Renal Crónica'),\n",
        "    gr.Radio(choices=[1, 2, 98], label='Tabaquismo'),\n",
        "    gr.Radio(choices=[1, 2, 99], label='Contacto con otro caso'),\n",
        "    gr.Radio(choices=[1, 2, 98], label='Toma de muestra de laboratorio'),\n",
        "    gr.Radio(choices=[1, 2, 97, 98, 99], label='Resultado de laboratorio'),\n",
        "    gr.Radio(choices=[1, 2, 98], label='Toma de muestra de antígeno'),\n",
        "    gr.Radio(choices=[1, 2, 97, 98, 99], label='Resultado de antígeno'),\n",
        "    gr.Radio(choices=[1, 2, 97, 98, 99], label='UCI'),\n",
        "    gr.Number(label='Días de Hospitalización',value=0),\n",
        "    gr.Number(label='Días con Síntomas',value=0),\n",
        "]\n",
        "\n",
        "# Crear componente de salida para Gradio\n",
        "outputs = gr.Textbox(label=\"Predicción\")\n",
        "\n",
        "#! pip install typing-extensions --upgrade\n",
        "# Crear la interfaz de Gradio\n",
        "demo = gr.Interface(fn=predict, inputs=inputs, outputs=outputs)\n",
        "\n",
        "# Ejecutar la aplicación web\n",
        "if __name__ == \"__main__\":\n",
        "    demo.launch(show_api=False,debug=True)"
      ]
    }
  ],
  "metadata": {
    "accelerator": "GPU",
    "colab": {
      "gpuType": "T4",
      "include_colab_link": true,
      "private_outputs": true,
      "provenance": []
    },
    "kernelspec": {
      "display_name": "Python 3",
      "name": "python3"
    },
    "language_info": {
      "codemirror_mode": {
        "name": "ipython",
        "version": 3
      },
      "file_extension": ".py",
      "mimetype": "text/x-python",
      "name": "python",
      "nbconvert_exporter": "python",
      "pygments_lexer": "ipython3",
      "version": "3.10.13"
    }
  },
  "nbformat": 4,
  "nbformat_minor": 0
}

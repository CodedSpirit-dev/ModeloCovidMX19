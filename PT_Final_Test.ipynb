# %%
# <a href="https://colab.research.google.com/github/CodedSpirit-dev/ModeloCovidMX19/blob/main/PTfinal.ipynb" target="_parent"><img src="https://colab.research.google.com/assets/colab-badge.svg" alt="Open In Colab"/></a>

# %%
# Instalación de RAPIDS-Colab y verificación de compatibilidad con la GPU.
! git clone https://github.com/rapidsai/rapidsai-csp-utils.git
! python rapidsai-csp-utils/colab/pip-install.py

# %%
# Descarga del conjunto de datos COVID19 de México.
! wget https://datosabiertos.salud.gob.mx/gobmx/salud/datos_abiertos/datos_abiertos_covid19.zip
! unzip /content/datos_abiertos_covid19.zip

# %%
import cudf

# Lectura de los datos utilizando cuDF.
data = cudf.read_csv('COVID19MEXICO.csv')
data.info()

# %%
# Preprocesamiento y limpieza de los datos.

# Eliminamos las columnas que no son necesarias.
df = data.drop(columns=['SECTOR', 'MUNICIPIO_RES', 'HABLA_LENGUA_INDIG', 'ID_REGISTRO', 'ORIGEN', 'PAIS_NACIONALIDAD', 'PAIS_ORIGEN', 'INDIGENA', 'ENTIDAD_UM', 'ENTIDAD_NAC', 'NACIONALIDAD', 'ENTIDAD_RES'])

# Convertimos las columnas de fecha.
df['FECHA_ACTUALIZACION'] = cudf.to_datetime(df['FECHA_ACTUALIZACION'])
df['FECHA_INGRESO'] = cudf.to_datetime(df['FECHA_INGRESO'])
df['FECHA_SINTOMAS'] = cudf.to_datetime(df['FECHA_SINTOMAS'])
df['FECHA_DEF'] = cudf.to_datetime(df['FECHA_DEF'], errors='coerce')

# Convertimos tipos de datos para la codificación de etiquetas.
df['TIPO_PACIENTE'] = df['TIPO_PACIENTE'].astype('str')

# Codificación de etiquetas.
for col in ['TIPO_PACIENTE', 'SEXO']:
    df[col], _ = df[col].factorize()

# Creación de características a partir de fechas.
df['DIAS_DEFUNCION'] = (df['FECHA_ACTUALIZACION'] - df['FECHA_DEF']).dt.days
df['DIAS_HOSPITALIZACION'] = (df['FECHA_ACTUALIZACION'] - df['FECHA_INGRESO']).dt.days
df['DIAS_SINTOMAS'] = (df['FECHA_ACTUALIZACION'] - df['FECHA_SINTOMAS']).dt.days

# Limpieza de los datos para la característica DIAS_DEFUNCION.
df['DIAS_DEFUNCION'] = df['DIAS_DEFUNCION'].apply(lambda x: 0 if x < 0 else x)

# Eliminamos más columnas que no son necesarias para el modelado.
df = df.drop(columns=['FECHA_ACTUALIZACION', 'FECHA_INGRESO', 'FECHA_SINTOMAS', 'FECHA_DEF', 'DIAS_DEFUNCION', 'MIGRANTE'])

# Preparación de los datos para el modelo.
X = df.drop(columns=['CLASIFICACION_FINAL'])
y = df['CLASIFICACION_FINAL']

# %%
from cuml.model_selection import train_test_split

# Dividimos los datos en conjuntos de entrenamiento y prueba.
X_train, X_test, y_train, y_test = train_test_split(X, y, test_size=0.2, random_state=42)

# %%
from cuml.ensemble import RandomForestClassifier
from cuml.metrics import accuracy_score

# Creación y entrenamiento del modelo de clasificación Random Forest.
clf = RandomForestClassifier(random_state=50)
X_train = X_train.astype('float32')
y_train = y_train.astype('float32')
X_test = X_test.astype('float32')
y_test = y_test.astype('float32')
clf.fit(X_train, y_train)
y_pred = clf.predict(X_test)

# Evaluación del modelo.
print(accuracy_score(y_test, y_pred))

# %%
from sklearn.metrics import classification_report

# Generación del informe de clasificación para el modelo entrenado.
print(classification_report(y_test.to_array(), y_pred.to_array()))

# %%
from cuml.neighbors import KNeighborsClassifier

# Instanciamos los clasificadores que utilizaremos.
knn = KNeighborsClassifier()

# Entrenamiento del modelo k-NN.
knn.fit(X_train, y_train)

# %%
# Hacemos predicciones con el modelo k-NN.
knn_predictions = knn.predict(X_test)

# Evaluamos el modelo k-NN.
print(accuracy_score(y_test, knn_predictions))

# %%
import gradio as gr

# Creación de una interfaz de Gradio para probar el modelo con datos de entrada del usuario.

def predict(features):
    df = cudf.DataFrame(features, index=[0])
    pred = clf.predict(df.astype('float32'))
    return 'Positivo para COVID-19' if pred[0] == 1 else 'Negativo para COVID-19'

iface = gr.Interface(
    fn=predict,
    inputs=[gr.inputs.Number(label=feature) for feature in X.columns],
    outputs='text',
)

iface.launch()

# %%
# Aquí podemos añadir cualquier bloque adicional de código necesario para visualización o análisis adicional.

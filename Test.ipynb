{
  "cells": [
    {
      "cell_type": "code",
      "execution_count": 1,
      "metadata": {
        "id": "CblG7T-IEBZK"
      },
      "outputs": [],
      "source": [
        "# This get the RAPIDS-Colab install files and test check your GPU.  Run this and the next cell only.\n",
        "# Please read the output of this cell.  If your Colab Instance is not RAPIDS compatible, it will warn you and give you remediation steps.\n",
        "#! git clone https://github.com/rapidsai/rapidsai-csp-utils.git\n",
        "#! python rapidsai-csp-utils/colab/pip-install.py"
      ]
    },
    {
      "cell_type": "code",
      "execution_count": 2,
      "metadata": {
        "id": "RGAdx7WW1tJF"
      },
      "outputs": [],
      "source": [
        "#! wget https://datosabiertos.salud.gob.mx/gobmx/salud/datos_abiertos/datos_abiertos_covid19.zip"
      ]
    },
    {
      "cell_type": "code",
      "execution_count": 3,
      "metadata": {
        "id": "lUEh9Jxx2uYw"
      },
      "outputs": [],
      "source": [
        "#! unzip /content/datos_abiertos_covid19.zip"
      ]
    },
    {
      "cell_type": "code",
      "execution_count": 4,
      "metadata": {},
      "outputs": [],
      "source": [
        "%load_ext cudf.pandas\n",
        "# pandas API is now GPU accelerated\n",
        "\n",
        "import pandas as pd\n",
        "\n",
        "import cuml\n",
        "import cuml.preprocessing\n",
        "import cuml.preprocessing.LabelEncoder\n",
        "\n",
        "#Quitar warning\n",
        "import warnings\n",
        "\n",
        "warnings.filterwarnings(\"ignore\")"
      ]
    },
    {
      "cell_type": "code",
      "execution_count": 5,
      "metadata": {
        "id": "YWTqIVR_3C5j"
      },
      "outputs": [
        {
          "name": "stdout",
          "output_type": "stream",
          "text": [
            "<class 'cudf.core.dataframe.DataFrame'>\n",
            "RangeIndex: 1186694 entries, 0 to 1186693\n",
            "Data columns (total 40 columns):\n",
            " #   Column                 Non-Null Count    Dtype\n",
            "---  ------                 --------------    -----\n",
            " 0   FECHA_ACTUALIZACION    1186694 non-null  object\n",
            " 1   ID_REGISTRO            1186694 non-null  object\n",
            " 2   ORIGEN                 1186694 non-null  int64\n",
            " 3   SECTOR                 1186694 non-null  int64\n",
            " 4   ENTIDAD_UM             1186694 non-null  object\n",
            " 5   SEXO                   1186694 non-null  int64\n",
            " 6   ENTIDAD_NAC            1186694 non-null  object\n",
            " 7   ENTIDAD_RES            1186694 non-null  object\n",
            " 8   MUNICIPIO_RES          1186694 non-null  object\n",
            " 9   TIPO_PACIENTE          1186694 non-null  int64\n",
            " 10  FECHA_INGRESO          1186694 non-null  object\n",
            " 11  FECHA_SINTOMAS         1186694 non-null  object\n",
            " 12  FECHA_DEF              1186694 non-null  object\n",
            " 13  INTUBADO               1186694 non-null  int64\n",
            " 14  NEUMONIA               1186694 non-null  int64\n",
            " 15  EDAD                   1186694 non-null  int64\n",
            " 16  NACIONALIDAD           1186694 non-null  int64\n",
            " 17  EMBARAZO               1186694 non-null  int64\n",
            " 18  HABLA_LENGUA_INDIG     1186694 non-null  int64\n",
            " 19  INDIGENA               1186694 non-null  int64\n",
            " 20  DIABETES               1186694 non-null  int64\n",
            " 21  EPOC                   1186694 non-null  int64\n",
            " 22  ASMA                   1186694 non-null  int64\n",
            " 23  INMUSUPR               1186694 non-null  int64\n",
            " 24  HIPERTENSION           1186694 non-null  int64\n",
            " 25  OTRA_COM               1186694 non-null  int64\n",
            " 26  CARDIOVASCULAR         1186694 non-null  int64\n",
            " 27  OBESIDAD               1186694 non-null  int64\n",
            " 28  RENAL_CRONICA          1186694 non-null  int64\n",
            " 29  TABAQUISMO             1186694 non-null  int64\n",
            " 30  OTRO_CASO              1186694 non-null  int64\n",
            " 31  TOMA_MUESTRA_LAB       1186694 non-null  int64\n",
            " 32  RESULTADO_LAB          1186694 non-null  int64\n",
            " 33  TOMA_MUESTRA_ANTIGENO  1186694 non-null  int64\n",
            " 34  RESULTADO_ANTIGENO     1186694 non-null  int64\n",
            " 35  CLASIFICACION_FINAL    1186694 non-null  int64\n",
            " 36  MIGRANTE               1186694 non-null  int64\n",
            " 37  PAIS_NACIONALIDAD      1186694 non-null  object\n",
            " 38  PAIS_ORIGEN            1186694 non-null  object\n",
            " 39  UCI                    1186694 non-null  int64\n",
            "dtypes: int64(29), object(11)\n",
            "memory usage: 386.0+ MB\n"
          ]
        }
      ],
      "source": [
        "import numpy as np\n",
        "\n",
        "\n",
        "data=pd.read_csv('COVID19MEXICO.csv')\n",
        "data.info()"
      ]
    },
    {
      "cell_type": "code",
      "execution_count": 6,
      "metadata": {
        "id": "aytu-jda4kPZ"
      },
      "outputs": [],
      "source": [
        "df=data\n",
        "\n",
        "df = df.drop(columns=['SECTOR','MUNICIPIO_RES','HABLA_LENGUA_INDIG','ID_REGISTRO','ORIGEN','PAIS_NACIONALIDAD','PAIS_ORIGEN','INDIGENA','ENTIDAD_UM','ENTIDAD_NAC','NACIONALIDAD','ENTIDAD_RES'])\n",
        "df.columns\n",
        "\n",
        "# Hacer drop de filas donde \"CLASIFICACION_FINAL\" sea 2, 4 o 5\n",
        "df=df.drop(df[df['CLASIFICACION_FINAL']==2].index)\n",
        "df=df.drop(df[df['CLASIFICACION_FINAL']==4].index)\n",
        "df=df.drop(df[df['CLASIFICACION_FINAL']==5].index)\n",
        "\n",
        "# Si alguna fila tiene como valor 97, 98, 99, borrarla\n",
        "df=df.drop(df[df['FECHA_SINTOMAS']==97].index)\n",
        "df=df.drop(df[df['FECHA_SINTOMAS']==98].index)\n",
        "df=df.drop(df[df['FECHA_SINTOMAS']==99].index)\n",
        "\n",
        "\n",
        "df['FECHA_ACTUALIZACION']=pd.to_datetime(df['FECHA_ACTUALIZACION'])\n",
        "df['FECHA_INGRESO']=pd.to_datetime(df['FECHA_INGRESO'])\n",
        "df['FECHA_SINTOMAS']=pd.to_datetime(df['FECHA_SINTOMAS'])\n",
        "df['FECHA_DEF']=pd.to_datetime(df['FECHA_DEF'],errors='coerce')\n",
        "\n",
        "\n",
        "for col in ['TIPO_PACIENTE']:\n",
        "  df[col]=df[col].astype(str)\n",
        "\n",
        "\n",
        "le = cuml.preprocessing.LabelEncoder()\n",
        "\n",
        "\n",
        "for col in ['TIPO_PACIENTE','SEXO']:\n",
        "  df[col]=le.fit_transform(df[col])\n",
        "# crear caracteristicas apartir de las fechas\n",
        "\n",
        "df['DIAS_DEFUNCION']=(df['FECHA_ACTUALIZACION']- df['FECHA_DEF']).dt.days\n",
        "df['DIAS_HOSPITALIZACION']=(df['FECHA_ACTUALIZACION']- df['FECHA_INGRESO']).dt.days\n",
        "df['DIAS_SINTOMAS']=(df['FECHA_ACTUALIZACION']- df['FECHA_SINTOMAS']).dt.days\n",
        "\n",
        "\n",
        "# Red NUERONAL REVISAR ESTO\n",
        "df['DIAS_DEFUNCION'] = df['DIAS_DEFUNCION'].apply(lambda x: 0 if x < 0 else x)\n",
        "\n",
        "\n",
        "\n",
        "df = df.drop(columns=['FECHA_ACTUALIZACION', 'FECHA_INGRESO', 'FECHA_SINTOMAS', 'FECHA_DEF','DIAS_DEFUNCION','MIGRANTE'])\n",
        "\n",
        "X=df.drop(columns=['CLASIFICACION_FINAL'])\n",
        "y=df['CLASIFICACION_FINAL']"
      ]
    },
    {
      "cell_type": "code",
      "execution_count": 7,
      "metadata": {
        "id": "8e8A20ps6q4l"
      },
      "outputs": [],
      "source": [
        "from cuml import train_test_split\n",
        "import cudf\n",
        "\n",
        "X_train, X_test, y_train, y_test = train_test_split(cudf.DataFrame.from_pandas(X), cudf.Series(y), test_size=0.3, random_state=50)\n"
      ]
    },
    {
      "cell_type": "code",
      "execution_count": 8,
      "metadata": {
        "id": "an-qCIA8BFIC"
      },
      "outputs": [
        {
          "name": "stdout",
          "output_type": "stream",
          "text": [
            "<class 'cudf.core.dataframe.DataFrame'>\n",
            "Int64Index: 1184327 entries, 0 to 1186693\n",
            "Data columns (total 25 columns):\n",
            " #   Column                 Non-Null Count    Dtype\n",
            "---  ------                 --------------    -----\n",
            " 0   SEXO                   1184327 non-null  uint8\n",
            " 1   TIPO_PACIENTE          1184327 non-null  uint8\n",
            " 2   INTUBADO               1184327 non-null  int64\n",
            " 3   NEUMONIA               1184327 non-null  int64\n",
            " 4   EDAD                   1184327 non-null  int64\n",
            " 5   EMBARAZO               1184327 non-null  int64\n",
            " 6   DIABETES               1184327 non-null  int64\n",
            " 7   EPOC                   1184327 non-null  int64\n",
            " 8   ASMA                   1184327 non-null  int64\n",
            " 9   INMUSUPR               1184327 non-null  int64\n",
            " 10  HIPERTENSION           1184327 non-null  int64\n",
            " 11  OTRA_COM               1184327 non-null  int64\n",
            " 12  CARDIOVASCULAR         1184327 non-null  int64\n",
            " 13  OBESIDAD               1184327 non-null  int64\n",
            " 14  RENAL_CRONICA          1184327 non-null  int64\n",
            " 15  TABAQUISMO             1184327 non-null  int64\n",
            " 16  OTRO_CASO              1184327 non-null  int64\n",
            " 17  TOMA_MUESTRA_LAB       1184327 non-null  int64\n",
            " 18  RESULTADO_LAB          1184327 non-null  int64\n",
            " 19  TOMA_MUESTRA_ANTIGENO  1184327 non-null  int64\n",
            " 20  RESULTADO_ANTIGENO     1184327 non-null  int64\n",
            " 21  CLASIFICACION_FINAL    1184327 non-null  int64\n",
            " 22  UCI                    1184327 non-null  int64\n",
            " 23  DIAS_HOSPITALIZACION   1184327 non-null  int64\n",
            " 24  DIAS_SINTOMAS          1184327 non-null  int64\n",
            "dtypes: int64(23), uint8(2)\n",
            "memory usage: 219.1 MB\n"
          ]
        }
      ],
      "source": [
        "df.info()"
      ]
    },
    {
      "cell_type": "code",
      "execution_count": 9,
      "metadata": {
        "id": "WegSuOMNHRoP"
      },
      "outputs": [],
      "source": [
        "from cuml.ensemble import RandomForestClassifier\n",
        "from sklearn.metrics import classification_report\n",
        "clf=RandomForestClassifier(random_state=50)\n",
        "#\n",
        "X_train=X_train.astype('float32')\n",
        "y_train=y_train.astype('float32')\n",
        "\n",
        "clf.fit(X_train,y_train)\n",
        "y_pred=clf.predict(X_test)"
      ]
    },
    {
      "cell_type": "markdown",
      "metadata": {},
      "source": [
        "classification_report de sklearn"
      ]
    },
    {
      "cell_type": "code",
      "execution_count": 10,
      "metadata": {
        "id": "P5LvOlTGJ179"
      },
      "outputs": [
        {
          "name": "stdout",
          "output_type": "stream",
          "text": [
            "Modelo resultados para Random Forest usando sklearn\n",
            "              precision    recall  f1-score   support\n",
            "\n",
            "           1       0.97      0.01      0.02      2431\n",
            "           3       1.00      1.00      1.00    125424\n",
            "           6       0.97      0.97      0.97     19345\n",
            "           7       0.99      1.00      0.99    208098\n",
            "\n",
            "    accuracy                           0.99    355298\n",
            "   macro avg       0.98      0.75      0.75    355298\n",
            "weighted avg       0.99      0.99      0.99    355298\n",
            "\n",
            "Modelo resultados para KNN usando sklearn\n",
            "              precision    recall  f1-score   support\n",
            "\n",
            "           1       0.30      0.01      0.03      2431\n",
            "           3       0.95      0.84      0.89    125424\n",
            "           6       0.96      0.92      0.94     19345\n",
            "           7       0.90      0.97      0.93    208098\n",
            "\n",
            "    accuracy                           0.92    355298\n",
            "   macro avg       0.78      0.69      0.70    355298\n",
            "weighted avg       0.91      0.92      0.91    355298\n",
            "\n"
          ]
        }
      ],
      "source": [
        "from cuml.ensemble import RandomForestClassifier\n",
        "from cuml.neighbors import KNeighborsClassifier\n",
        "import cupy\n",
        "\n",
        "\n",
        "cuml_RFC = RandomForestClassifier(random_state=50)\n",
        "cuml_KNC = KNeighborsClassifier()\n",
        "\n",
        "classifiers = [\n",
        "    {'Random Forest': cuml_RFC},\n",
        "    {'KNN': cuml_KNC}\n",
        "]\n",
        "\n",
        "for classifier in classifiers:\n",
        "    name, clf = list(classifier.items())[0]\n",
        "    clf.fit(X_train.to_cupy(), y_train.to_cupy())\n",
        "    y_pred = clf.predict(X_test)\n",
        "    y_pred = cupy.asarray(y_pred)\n",
        "    print(f'Modelo resultados para {name} usando sklearn')\n",
        "    print(classification_report(y_test.to_numpy(), y_pred.get()))\n",
        "\n"
      ]
    },
    {
      "cell_type": "markdown",
      "metadata": {},
      "source": [
        "Usando accuracy_score de cuML"
      ]
    },
    {
      "cell_type": "code",
      "execution_count": 11,
      "metadata": {},
      "outputs": [
        {
          "name": "stdout",
          "output_type": "stream",
          "text": [
            "Modelo resultados para Ramdom Forest usando cuML\n",
            "0.9917871952056885\n",
            "Modelo resultados para KNN usando cuML\n",
            "0.9917871952056885\n"
          ]
        }
      ],
      "source": [
        "# importar accuracy_score\n",
        "from cuml.metrics import accuracy_score\n",
        "\n",
        "cuml_RFC=RandomForestClassifier(random_state=50)\n",
        "cuml_KNC=KNeighborsClassifier()\n",
        "\n",
        "classifiers=[\n",
        "    {\n",
        "        'Ramdom Forest':cuml_RFC\n",
        "    },\n",
        "    {\n",
        "        'KNN':cuml_RFC\n",
        "    }\n",
        "]\n",
        "\n",
        "\n",
        "for classifier in classifiers:\n",
        "    name, clf = list(classifier.items())[0]\n",
        "    clf.fit(X_train.to_cupy(), y_train.to_cupy())\n",
        "    y_pred = clf.predict(X_test)\n",
        "    y_pred = cupy.asarray(y_pred) # convert to cupy array\n",
        "    print(f'Modelo resultados para {name} usando cuML')\n",
        "    print(accuracy_score(y_test.to_numpy(), y_pred.get()))\n"
      ]
    },
    {
      "cell_type": "code",
      "execution_count": 13,
      "metadata": {
        "id": "pUeYZr-fMWsm"
      },
      "outputs": [],
      "source": [
        "import locale\n",
        "def getpreferredencoding(do_setlocale = True):\n",
        "    return \"UTF-8\"\n",
        "locale.getpreferredencoding = getpreferredencoding"
      ]
    },
    {
      "cell_type": "code",
      "execution_count": 14,
      "metadata": {
        "id": "SyBKcHPvKq6i"
      },
      "outputs": [
        {
          "name": "stdout",
          "output_type": "stream",
          "text": [
            "Requirement already satisfied: gradio in /home/codedspirit/anaconda3/envs/rapids-23.10/lib/python3.10/site-packages (4.1.2)\n",
            "Requirement already satisfied: aiofiles<24.0,>=22.0 in /home/codedspirit/anaconda3/envs/rapids-23.10/lib/python3.10/site-packages (from gradio) (23.2.1)\n",
            "Requirement already satisfied: altair<6.0,>=4.2.0 in /home/codedspirit/anaconda3/envs/rapids-23.10/lib/python3.10/site-packages (from gradio) (5.1.2)\n",
            "Requirement already satisfied: fastapi in /home/codedspirit/anaconda3/envs/rapids-23.10/lib/python3.10/site-packages (from gradio) (0.104.1)\n",
            "Requirement already satisfied: ffmpy in /home/codedspirit/anaconda3/envs/rapids-23.10/lib/python3.10/site-packages (from gradio) (0.3.1)\n",
            "Requirement already satisfied: gradio-client==0.7.0 in /home/codedspirit/anaconda3/envs/rapids-23.10/lib/python3.10/site-packages (from gradio) (0.7.0)\n",
            "Requirement already satisfied: httpx in /home/codedspirit/anaconda3/envs/rapids-23.10/lib/python3.10/site-packages (from gradio) (0.25.1)\n",
            "Requirement already satisfied: huggingface-hub>=0.14.0 in /home/codedspirit/anaconda3/envs/rapids-23.10/lib/python3.10/site-packages (from gradio) (0.19.0)\n",
            "Requirement already satisfied: importlib-resources<7.0,>=1.3 in /home/codedspirit/anaconda3/envs/rapids-23.10/lib/python3.10/site-packages (from gradio) (6.1.1)\n",
            "Requirement already satisfied: jinja2<4.0 in /home/codedspirit/anaconda3/envs/rapids-23.10/lib/python3.10/site-packages (from gradio) (3.1.2)\n",
            "Requirement already satisfied: markupsafe~=2.0 in /home/codedspirit/anaconda3/envs/rapids-23.10/lib/python3.10/site-packages (from gradio) (2.1.3)\n",
            "Requirement already satisfied: matplotlib~=3.0 in /home/codedspirit/anaconda3/envs/rapids-23.10/lib/python3.10/site-packages (from gradio) (3.8.1)\n",
            "Requirement already satisfied: numpy~=1.0 in /home/codedspirit/anaconda3/envs/rapids-23.10/lib/python3.10/site-packages (from gradio) (1.24.4)\n",
            "Requirement already satisfied: orjson~=3.0 in /home/codedspirit/anaconda3/envs/rapids-23.10/lib/python3.10/site-packages (from gradio) (3.9.10)\n",
            "Requirement already satisfied: packaging in /home/codedspirit/anaconda3/envs/rapids-23.10/lib/python3.10/site-packages (from gradio) (23.2)\n",
            "Requirement already satisfied: pandas<3.0,>=1.0 in /home/codedspirit/anaconda3/envs/rapids-23.10/lib/python3.10/site-packages (from gradio) (1.5.3)\n",
            "Requirement already satisfied: pillow<11.0,>=8.0 in /home/codedspirit/anaconda3/envs/rapids-23.10/lib/python3.10/site-packages (from gradio) (10.1.0)\n",
            "Requirement already satisfied: pydantic>=2.0 in /home/codedspirit/anaconda3/envs/rapids-23.10/lib/python3.10/site-packages (from gradio) (2.4.2)\n",
            "Requirement already satisfied: pydub in /home/codedspirit/anaconda3/envs/rapids-23.10/lib/python3.10/site-packages (from gradio) (0.25.1)\n",
            "Requirement already satisfied: python-multipart in /home/codedspirit/anaconda3/envs/rapids-23.10/lib/python3.10/site-packages (from gradio) (0.0.6)\n",
            "Requirement already satisfied: pyyaml<7.0,>=5.0 in /home/codedspirit/anaconda3/envs/rapids-23.10/lib/python3.10/site-packages (from gradio) (6.0.1)\n",
            "Requirement already satisfied: requests~=2.0 in /home/codedspirit/anaconda3/envs/rapids-23.10/lib/python3.10/site-packages (from gradio) (2.31.0)\n",
            "Requirement already satisfied: semantic-version~=2.0 in /home/codedspirit/anaconda3/envs/rapids-23.10/lib/python3.10/site-packages (from gradio) (2.10.0)\n",
            "Requirement already satisfied: tomlkit==0.12.0 in /home/codedspirit/anaconda3/envs/rapids-23.10/lib/python3.10/site-packages (from gradio) (0.12.0)\n",
            "Requirement already satisfied: typer<1.0,>=0.9 in /home/codedspirit/anaconda3/envs/rapids-23.10/lib/python3.10/site-packages (from typer[all]<1.0,>=0.9->gradio) (0.9.0)\n",
            "Requirement already satisfied: typing-extensions~=4.0 in /home/codedspirit/anaconda3/envs/rapids-23.10/lib/python3.10/site-packages (from gradio) (4.8.0)\n",
            "Requirement already satisfied: uvicorn>=0.14.0 in /home/codedspirit/anaconda3/envs/rapids-23.10/lib/python3.10/site-packages (from gradio) (0.24.0.post1)\n",
            "Requirement already satisfied: websockets<12.0,>=10.0 in /home/codedspirit/anaconda3/envs/rapids-23.10/lib/python3.10/site-packages (from gradio) (10.4)\n",
            "Requirement already satisfied: fsspec in /home/codedspirit/anaconda3/envs/rapids-23.10/lib/python3.10/site-packages (from gradio-client==0.7.0->gradio) (2023.10.0)\n",
            "Requirement already satisfied: jsonschema>=3.0 in /home/codedspirit/anaconda3/envs/rapids-23.10/lib/python3.10/site-packages (from altair<6.0,>=4.2.0->gradio) (4.19.2)\n",
            "Requirement already satisfied: toolz in /home/codedspirit/anaconda3/envs/rapids-23.10/lib/python3.10/site-packages (from altair<6.0,>=4.2.0->gradio) (0.12.0)\n",
            "Requirement already satisfied: filelock in /home/codedspirit/anaconda3/envs/rapids-23.10/lib/python3.10/site-packages (from huggingface-hub>=0.14.0->gradio) (3.13.1)\n",
            "Requirement already satisfied: tqdm>=4.42.1 in /home/codedspirit/anaconda3/envs/rapids-23.10/lib/python3.10/site-packages (from huggingface-hub>=0.14.0->gradio) (4.66.1)\n",
            "Requirement already satisfied: contourpy>=1.0.1 in /home/codedspirit/anaconda3/envs/rapids-23.10/lib/python3.10/site-packages (from matplotlib~=3.0->gradio) (1.2.0)\n",
            "Requirement already satisfied: cycler>=0.10 in /home/codedspirit/anaconda3/envs/rapids-23.10/lib/python3.10/site-packages (from matplotlib~=3.0->gradio) (0.12.1)\n",
            "Requirement already satisfied: fonttools>=4.22.0 in /home/codedspirit/anaconda3/envs/rapids-23.10/lib/python3.10/site-packages (from matplotlib~=3.0->gradio) (4.44.0)\n",
            "Requirement already satisfied: kiwisolver>=1.3.1 in /home/codedspirit/anaconda3/envs/rapids-23.10/lib/python3.10/site-packages (from matplotlib~=3.0->gradio) (1.4.5)\n",
            "Requirement already satisfied: pyparsing>=2.3.1 in /home/codedspirit/anaconda3/envs/rapids-23.10/lib/python3.10/site-packages (from matplotlib~=3.0->gradio) (3.1.1)\n",
            "Requirement already satisfied: python-dateutil>=2.7 in /home/codedspirit/anaconda3/envs/rapids-23.10/lib/python3.10/site-packages (from matplotlib~=3.0->gradio) (2.8.2)\n",
            "Requirement already satisfied: pytz>=2020.1 in /home/codedspirit/anaconda3/envs/rapids-23.10/lib/python3.10/site-packages (from pandas<3.0,>=1.0->gradio) (2023.3.post1)\n",
            "Requirement already satisfied: annotated-types>=0.4.0 in /home/codedspirit/anaconda3/envs/rapids-23.10/lib/python3.10/site-packages (from pydantic>=2.0->gradio) (0.6.0)\n",
            "Requirement already satisfied: pydantic-core==2.10.1 in /home/codedspirit/anaconda3/envs/rapids-23.10/lib/python3.10/site-packages (from pydantic>=2.0->gradio) (2.10.1)\n",
            "Requirement already satisfied: charset-normalizer<4,>=2 in /home/codedspirit/anaconda3/envs/rapids-23.10/lib/python3.10/site-packages (from requests~=2.0->gradio) (3.3.2)\n",
            "Requirement already satisfied: idna<4,>=2.5 in /home/codedspirit/anaconda3/envs/rapids-23.10/lib/python3.10/site-packages (from requests~=2.0->gradio) (3.4)\n",
            "Requirement already satisfied: urllib3<3,>=1.21.1 in /home/codedspirit/anaconda3/envs/rapids-23.10/lib/python3.10/site-packages (from requests~=2.0->gradio) (1.26.18)\n",
            "Requirement already satisfied: certifi>=2017.4.17 in /home/codedspirit/anaconda3/envs/rapids-23.10/lib/python3.10/site-packages (from requests~=2.0->gradio) (2023.7.22)\n",
            "Requirement already satisfied: click<9.0.0,>=7.1.1 in /home/codedspirit/anaconda3/envs/rapids-23.10/lib/python3.10/site-packages (from typer<1.0,>=0.9->typer[all]<1.0,>=0.9->gradio) (8.1.7)\n",
            "Requirement already satisfied: colorama<0.5.0,>=0.4.3 in /home/codedspirit/anaconda3/envs/rapids-23.10/lib/python3.10/site-packages (from typer[all]<1.0,>=0.9->gradio) (0.4.6)\n",
            "Requirement already satisfied: shellingham<2.0.0,>=1.3.0 in /home/codedspirit/anaconda3/envs/rapids-23.10/lib/python3.10/site-packages (from typer[all]<1.0,>=0.9->gradio) (1.5.4)\n",
            "Requirement already satisfied: rich<14.0.0,>=10.11.0 in /home/codedspirit/anaconda3/envs/rapids-23.10/lib/python3.10/site-packages (from typer[all]<1.0,>=0.9->gradio) (13.6.0)\n",
            "Requirement already satisfied: h11>=0.8 in /home/codedspirit/anaconda3/envs/rapids-23.10/lib/python3.10/site-packages (from uvicorn>=0.14.0->gradio) (0.14.0)\n",
            "Requirement already satisfied: anyio<4.0.0,>=3.7.1 in /home/codedspirit/anaconda3/envs/rapids-23.10/lib/python3.10/site-packages (from fastapi->gradio) (3.7.1)\n",
            "Requirement already satisfied: starlette<0.28.0,>=0.27.0 in /home/codedspirit/anaconda3/envs/rapids-23.10/lib/python3.10/site-packages (from fastapi->gradio) (0.27.0)\n",
            "Requirement already satisfied: httpcore in /home/codedspirit/anaconda3/envs/rapids-23.10/lib/python3.10/site-packages (from httpx->gradio) (1.0.1)\n",
            "Requirement already satisfied: sniffio in /home/codedspirit/anaconda3/envs/rapids-23.10/lib/python3.10/site-packages (from httpx->gradio) (1.3.0)\n",
            "Requirement already satisfied: exceptiongroup in /home/codedspirit/anaconda3/envs/rapids-23.10/lib/python3.10/site-packages (from anyio<4.0.0,>=3.7.1->fastapi->gradio) (1.1.3)\n",
            "Requirement already satisfied: attrs>=22.2.0 in /home/codedspirit/anaconda3/envs/rapids-23.10/lib/python3.10/site-packages (from jsonschema>=3.0->altair<6.0,>=4.2.0->gradio) (23.1.0)\n",
            "Requirement already satisfied: jsonschema-specifications>=2023.03.6 in /home/codedspirit/anaconda3/envs/rapids-23.10/lib/python3.10/site-packages (from jsonschema>=3.0->altair<6.0,>=4.2.0->gradio) (2023.7.1)\n",
            "Requirement already satisfied: referencing>=0.28.4 in /home/codedspirit/anaconda3/envs/rapids-23.10/lib/python3.10/site-packages (from jsonschema>=3.0->altair<6.0,>=4.2.0->gradio) (0.30.2)\n",
            "Requirement already satisfied: rpds-py>=0.7.1 in /home/codedspirit/anaconda3/envs/rapids-23.10/lib/python3.10/site-packages (from jsonschema>=3.0->altair<6.0,>=4.2.0->gradio) (0.12.0)\n"
          ]
        },
        {
          "name": "stdout",
          "output_type": "stream",
          "text": [
            "Requirement already satisfied: six>=1.5 in /home/codedspirit/anaconda3/envs/rapids-23.10/lib/python3.10/site-packages (from python-dateutil>=2.7->matplotlib~=3.0->gradio) (1.16.0)\n",
            "Requirement already satisfied: markdown-it-py>=2.2.0 in /home/codedspirit/anaconda3/envs/rapids-23.10/lib/python3.10/site-packages (from rich<14.0.0,>=10.11.0->typer[all]<1.0,>=0.9->gradio) (3.0.0)\n",
            "Requirement already satisfied: pygments<3.0.0,>=2.13.0 in /home/codedspirit/anaconda3/envs/rapids-23.10/lib/python3.10/site-packages (from rich<14.0.0,>=10.11.0->typer[all]<1.0,>=0.9->gradio) (2.16.1)\n",
            "Requirement already satisfied: mdurl~=0.1 in /home/codedspirit/anaconda3/envs/rapids-23.10/lib/python3.10/site-packages (from markdown-it-py>=2.2.0->rich<14.0.0,>=10.11.0->typer[all]<1.0,>=0.9->gradio) (0.1.0)\n"
          ]
        }
      ],
      "source": [
        "! pip install gradio"
      ]
    },
    {
      "cell_type": "code",
      "execution_count": 15,
      "metadata": {
        "id": "X6w1zIbUNCkq"
      },
      "outputs": [
        {
          "name": "stdout",
          "output_type": "stream",
          "text": [
            "Running on local URL:  http://127.0.0.1:7860\n",
            "\n",
            "To create a public link, set `share=True` in `launch()`.\n"
          ]
        },
        {
          "data": {
            "text/html": [
              "<div><iframe src=\"http://127.0.0.1:7860/\" width=\"100%\" height=\"500\" allow=\"autoplay; camera; microphone; clipboard-read; clipboard-write;\" frameborder=\"0\" allowfullscreen></iframe></div>"
            ],
            "text/plain": [
              "<IPython.core.display.HTML object>"
            ]
          },
          "metadata": {},
          "output_type": "display_data"
        },
        {
          "name": "stdout",
          "output_type": "stream",
          "text": [
            "Keyboard interruption in main thread... closing server.\n"
          ]
        }
      ],
      "source": [
        "import gradio as gr\n",
        "import pandas as pd\n",
        "import numpy as np\n",
        "\n",
        "\n",
        "def predict(sexo, tipo_paciente, intubado, neumonia, edad, embarazo,\n",
        "             diabetes, epoc, asma, inmusupr,\n",
        "            hipertension, otra_com, cardiovascular, obesidad,\n",
        "            renal_cronica, tabaquismo, otro_caso, toma_muestra_lab,\n",
        "            resultado_lab, toma_muestra_antigeno, resultado_antigeno,\n",
        "           uci, dias_hospitalizacion, dias_sintomas):\n",
        "\n",
        "\n",
        "    # Crea un DataFrame con los valores de entrada\n",
        "    input_data = pd.DataFrame([[\n",
        "        sexo, tipo_paciente, intubado, neumonia, edad, embarazo,\n",
        "       diabetes, epoc, asma, inmusupr,\n",
        "        hipertension, otra_com, cardiovascular, obesidad,\n",
        "        renal_cronica, tabaquismo, otro_caso, toma_muestra_lab,\n",
        "        resultado_lab, toma_muestra_antigeno, resultado_antigeno, uci, dias_hospitalizacion, dias_sintomas\n",
        "        ]], columns=[\n",
        "        'SEXO', 'TIPO_PACIENTE', 'INTUBADO', 'NEUMONIA', 'EDAD', 'EMBARAZO','DIABETES', 'EPOC',\n",
        "        'ASMA', 'INMUSUPR','HIPERTENSION', 'OTRA_COM', 'CARDIOVASCULAR', 'OBESIDAD','RENAL_CRONICA',\n",
        "        'TABAQUISMO', 'OTRO_CASO', 'TOMA_MUESTRA_LAB','RESULTADO_LAB', 'TOMA_MUESTRA_ANTIGENO',\n",
        "        'RESULTADO_ANTIGENO','UCI', 'DIAS_HOSPITALIZACION', 'DIAS_SINTOMAS'])\n",
        "\n",
        "    prediction = clf.predict(input_data)\n",
        "    return prediction\n",
        "\n",
        "\n",
        "\n",
        "\n",
        "gr.Row\n",
        "inputs = [\n",
        "    gr.Radio(choices=[1, 2], label='Sexo'),\n",
        "    gr.Radio(choices=[1, 2], label='Tipo de Paciente'),\n",
        "    gr.Radio(choices=[1, 2], label='Intubado'),\n",
        "    gr.Radio(choices=[1, 2], label='Neumonía'),\n",
        "    gr.Slider(minimum=0, maximum=120, value=30, label='Edad'),\n",
        "    gr.Radio(choices=[1, 2], label='Embarazo'),\n",
        "    gr.Radio(choices=[1, 2], label='Diabetes'),\n",
        "    gr.Radio(choices=[1, 2], label='EPOC'),\n",
        "    gr.Radio(choices=[1, 2], label='Asma'),\n",
        "    gr.Radio(choices=[1, 2], label='Inmunosupresión'),\n",
        "    gr.Radio(choices=[1, 2], label='Hipertensión'),\n",
        "    gr.Radio(choices=[1, 2], label='Otra Comorbilidad'),\n",
        "    gr.Radio(choices=[1, 2], label='Cardiovascular'),\n",
        "    gr.Radio(choices=[1, 2], label='Obesidad'),\n",
        "    gr.Radio(choices=[1, 2], label='Enfermedad Renal Crónica'),\n",
        "    gr.Radio(choices=[1, 2], label='Tabaquismo'),\n",
        "    gr.Radio(choices=[1, 2], label='Contacto con otro caso'),\n",
        "    gr.Radio(choices=[1, 2], label='Toma de muestra de laboratorio'),\n",
        "    gr.Radio(choices=[1, 2], label='Resultado de laboratorio'),\n",
        "    gr.Radio(choices=[1, 2], label='Toma de muestra de antígeno'),\n",
        "    gr.Radio(choices=[1, 2], label='Resultado de antígeno'),\n",
        "    gr.Radio(choices=[1, 2], label='UCI'),\n",
        "    gr.Number(label='Días de Hospitalización',value=0),\n",
        "    gr.Number(label='Días con Síntomas',value=0),\n",
        "]\n",
        "\n",
        "# Crear componente de salida para Gradio\n",
        "outputs = gr.Textbox(label=\"Predicción\")\n",
        "\n",
        "# Crear la interfaz de Gradio\n",
        "demo = gr.Interface(fn=predict, inputs=inputs, outputs=outputs)\n",
        "\n",
        "# Ejecutar la aplicación web\n",
        "if __name__ == \"__main__\":\n",
        "    demo.launch(show_api=False,debug=True)"
      ]
    }
  ],
  "metadata": {
    "accelerator": "GPU",
    "colab": {
      "gpuType": "T4",
      "private_outputs": true,
      "provenance": []
    },
    "kernelspec": {
      "display_name": "Python 3",
      "name": "python3"
    },
    "language_info": {
      "codemirror_mode": {
        "name": "ipython",
        "version": 3
      },
      "file_extension": ".py",
      "mimetype": "text/x-python",
      "name": "python",
      "nbconvert_exporter": "python",
      "pygments_lexer": "ipython3",
      "version": "3.10.13"
    }
  },
  "nbformat": 4,
  "nbformat_minor": 0
}
